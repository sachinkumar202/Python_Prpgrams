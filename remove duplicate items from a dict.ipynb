{
 "cells": [
  {
   "cell_type": "markdown",
   "id": "946e2b81",
   "metadata": {},
   "source": [
    "#### Write a python program to remove duplicates from Dict"
   ]
  },
  {
   "cell_type": "code",
   "execution_count": 7,
   "id": "9d9eb09a",
   "metadata": {},
   "outputs": [
    {
     "name": "stdout",
     "output_type": "stream",
     "text": [
      "{'id1': {'name': ['Sachin'], 'class': ['V'], 'subject_integration': ['English', 'Maths', 'Science']}, 'id2': {'name': ['David'], 'class': ['V'], 'subject_integration': ['English', 'Maths', 'Science']}, 'id4': {'name': ['Surya'], 'class': ['V'], 'subject_integration': ['English', 'Maths', 'Science']}}\n"
     ]
    }
   ],
   "source": [
    "std_data = { 'id1':\n",
    "           {'name':['Sachin'],\n",
    "           'class':['V'],\n",
    "           'subject_integration':['English','Maths','Science']\n",
    "           },\n",
    "           'id2':\n",
    "           {'name':['David'],\n",
    "            'class': ['V'],\n",
    "            'subject_integration': ['English','Maths','Science']\n",
    "           },\n",
    "           'id3':\n",
    "           {'name': ['Sachin'],\n",
    "           'class': ['V'],\n",
    "           'subject_integration': ['English','Maths','Science']\n",
    "           },\n",
    "           'id4':\n",
    "           {'name': ['Surya'],\n",
    "            'class': ['V'],\n",
    "            'subject_integration': ['English','Maths','Science']\n",
    "           },\n",
    "           }\n",
    "result={}\n",
    "for key,value in std_data.items():\n",
    "    if value not in result.values():\n",
    "        result[key]=value\n",
    "print(result)"
   ]
  },
  {
   "cell_type": "code",
   "execution_count": 11,
   "id": "9cefcee2",
   "metadata": {},
   "outputs": [
    {
     "data": {
      "text/html": [
       "<div>\n",
       "<style scoped>\n",
       "    .dataframe tbody tr th:only-of-type {\n",
       "        vertical-align: middle;\n",
       "    }\n",
       "\n",
       "    .dataframe tbody tr th {\n",
       "        vertical-align: top;\n",
       "    }\n",
       "\n",
       "    .dataframe thead th {\n",
       "        text-align: right;\n",
       "    }\n",
       "</style>\n",
       "<table border=\"1\" class=\"dataframe\">\n",
       "  <thead>\n",
       "    <tr style=\"text-align: right;\">\n",
       "      <th></th>\n",
       "      <th>id1</th>\n",
       "      <th>id2</th>\n",
       "      <th>id3</th>\n",
       "      <th>id4</th>\n",
       "    </tr>\n",
       "  </thead>\n",
       "  <tbody>\n",
       "    <tr>\n",
       "      <th>name</th>\n",
       "      <td>[Sachin]</td>\n",
       "      <td>[David]</td>\n",
       "      <td>[Sachin]</td>\n",
       "      <td>[Surya]</td>\n",
       "    </tr>\n",
       "    <tr>\n",
       "      <th>class</th>\n",
       "      <td>[V]</td>\n",
       "      <td>[V]</td>\n",
       "      <td>[V]</td>\n",
       "      <td>[V]</td>\n",
       "    </tr>\n",
       "    <tr>\n",
       "      <th>subject_integration</th>\n",
       "      <td>[English, Maths, Science]</td>\n",
       "      <td>[English, Maths, Science]</td>\n",
       "      <td>[English, Maths, Science]</td>\n",
       "      <td>[English, Maths, Science]</td>\n",
       "    </tr>\n",
       "  </tbody>\n",
       "</table>\n",
       "</div>"
      ],
      "text/plain": [
       "                                           id1                        id2  \\\n",
       "name                                  [Sachin]                    [David]   \n",
       "class                                      [V]                        [V]   \n",
       "subject_integration  [English, Maths, Science]  [English, Maths, Science]   \n",
       "\n",
       "                                           id3                        id4  \n",
       "name                                  [Sachin]                    [Surya]  \n",
       "class                                      [V]                        [V]  \n",
       "subject_integration  [English, Maths, Science]  [English, Maths, Science]  "
      ]
     },
     "execution_count": 11,
     "metadata": {},
     "output_type": "execute_result"
    }
   ],
   "source": [
    "pd.DataFrame(std_data)"
   ]
  },
  {
   "cell_type": "code",
   "execution_count": 10,
   "id": "9cbcff13",
   "metadata": {},
   "outputs": [
    {
     "data": {
      "text/html": [
       "<div>\n",
       "<style scoped>\n",
       "    .dataframe tbody tr th:only-of-type {\n",
       "        vertical-align: middle;\n",
       "    }\n",
       "\n",
       "    .dataframe tbody tr th {\n",
       "        vertical-align: top;\n",
       "    }\n",
       "\n",
       "    .dataframe thead th {\n",
       "        text-align: right;\n",
       "    }\n",
       "</style>\n",
       "<table border=\"1\" class=\"dataframe\">\n",
       "  <thead>\n",
       "    <tr style=\"text-align: right;\">\n",
       "      <th></th>\n",
       "      <th>id1</th>\n",
       "      <th>id2</th>\n",
       "      <th>id4</th>\n",
       "    </tr>\n",
       "  </thead>\n",
       "  <tbody>\n",
       "    <tr>\n",
       "      <th>name</th>\n",
       "      <td>[Sachin]</td>\n",
       "      <td>[David]</td>\n",
       "      <td>[Surya]</td>\n",
       "    </tr>\n",
       "    <tr>\n",
       "      <th>class</th>\n",
       "      <td>[V]</td>\n",
       "      <td>[V]</td>\n",
       "      <td>[V]</td>\n",
       "    </tr>\n",
       "    <tr>\n",
       "      <th>subject_integration</th>\n",
       "      <td>[English, Maths, Science]</td>\n",
       "      <td>[English, Maths, Science]</td>\n",
       "      <td>[English, Maths, Science]</td>\n",
       "    </tr>\n",
       "  </tbody>\n",
       "</table>\n",
       "</div>"
      ],
      "text/plain": [
       "                                           id1                        id2  \\\n",
       "name                                  [Sachin]                    [David]   \n",
       "class                                      [V]                        [V]   \n",
       "subject_integration  [English, Maths, Science]  [English, Maths, Science]   \n",
       "\n",
       "                                           id4  \n",
       "name                                   [Surya]  \n",
       "class                                      [V]  \n",
       "subject_integration  [English, Maths, Science]  "
      ]
     },
     "execution_count": 10,
     "metadata": {},
     "output_type": "execute_result"
    }
   ],
   "source": [
    "import pandas as pd\n",
    "pd.DataFrame(result)"
   ]
  }
 ],
 "metadata": {
  "kernelspec": {
   "display_name": "Python 3 (ipykernel)",
   "language": "python",
   "name": "python3"
  },
  "language_info": {
   "codemirror_mode": {
    "name": "ipython",
    "version": 3
   },
   "file_extension": ".py",
   "mimetype": "text/x-python",
   "name": "python",
   "nbconvert_exporter": "python",
   "pygments_lexer": "ipython3",
   "version": "3.9.12"
  }
 },
 "nbformat": 4,
 "nbformat_minor": 5
}
