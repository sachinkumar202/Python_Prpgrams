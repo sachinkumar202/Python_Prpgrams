{
 "cells": [
  {
   "cell_type": "code",
   "execution_count": 5,
   "id": "138a700b",
   "metadata": {},
   "outputs": [
    {
     "name": "stdout",
     "output_type": "stream",
     "text": [
      "50\n",
      "Even Numbers 25\n",
      "Odd Numbers 25\n"
     ]
    }
   ],
   "source": [
    "num=eval(input()) # declared and assigned to the variable \"num\".\n",
    "c_even = 0  # initialized a value of 0.\n",
    "c_odd  = 0  # initialized a value of 0.\n",
    "for x in range(1,num+1):   # \"num\" is assigned to the variable \"x\".\n",
    "    if x%2==0:   # check if the current number (x) is even or odd.\n",
    "        c_even+=1  # incremented by 1\n",
    "    else:\n",
    "        c_odd+=1    # incremented by 1\n",
    "print('Even Numbers',c_even)   # Print the number\n",
    "print('Odd Numbers', c_odd)    # Print the number"
   ]
  },
  {
   "cell_type": "code",
   "execution_count": null,
   "id": "82b8bc0f",
   "metadata": {},
   "outputs": [],
   "source": []
  }
 ],
 "metadata": {
  "kernelspec": {
   "display_name": "Python 3 (ipykernel)",
   "language": "python",
   "name": "python3"
  },
  "language_info": {
   "codemirror_mode": {
    "name": "ipython",
    "version": 3
   },
   "file_extension": ".py",
   "mimetype": "text/x-python",
   "name": "python",
   "nbconvert_exporter": "python",
   "pygments_lexer": "ipython3",
   "version": "3.9.12"
  }
 },
 "nbformat": 4,
 "nbformat_minor": 5
}
