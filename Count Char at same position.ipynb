{
 "cells": [
  {
   "cell_type": "code",
   "execution_count": 6,
   "id": "04b64222",
   "metadata": {},
   "outputs": [
    {
     "name": "stdout",
     "output_type": "stream",
     "text": [
      "fdjhdfvhdfv\n"
     ]
    },
    {
     "data": {
      "text/plain": [
       "2"
      ]
     },
     "execution_count": 6,
     "metadata": {},
     "output_type": "execute_result"
    }
   ],
   "source": [
    "def c_c_position(str1):\n",
    "    c_c = 0\n",
    "    for i in range(len(str1)):\n",
    "        if((i == ord(str1[i]) - ord('A')) or (i == ord(str1[i]) - ord('a'))):\n",
    "            c_c+=1\n",
    "    return c_c\n",
    "str1 = input()\n",
    "c_c_position(str1)"
   ]
  },
  {
   "cell_type": "code",
   "execution_count": null,
   "id": "b2f531e0",
   "metadata": {},
   "outputs": [],
   "source": []
  },
  {
   "cell_type": "code",
   "execution_count": null,
   "id": "442e9ada",
   "metadata": {},
   "outputs": [],
   "source": []
  }
 ],
 "metadata": {
  "kernelspec": {
   "display_name": "Python 3 (ipykernel)",
   "language": "python",
   "name": "python3"
  },
  "language_info": {
   "codemirror_mode": {
    "name": "ipython",
    "version": 3
   },
   "file_extension": ".py",
   "mimetype": "text/x-python",
   "name": "python",
   "nbconvert_exporter": "python",
   "pygments_lexer": "ipython3",
   "version": "3.9.12"
  }
 },
 "nbformat": 4,
 "nbformat_minor": 5
}
