{
 "cells": [
  {
   "cell_type": "code",
   "execution_count": 5,
   "id": "cad73110",
   "metadata": {},
   "outputs": [
    {
     "name": "stdout",
     "output_type": "stream",
     "text": [
      "Enter the Number: 55\n",
      "Enter the Number: 5\n",
      "Value is : *\n",
      "275\n"
     ]
    }
   ],
   "source": [
    "a=int(input(\"Enter the Number: \"))\n",
    "b=int(input(\"Enter the Number: \"))\n",
    "c=str(input(\"Value is : \"))\n",
    "if c=='+':\n",
    "    print(a+b)\n",
    "elif c=='-':\n",
    "    print(a-b)\n",
    "elif c=='*':\n",
    "    print(a*b)\n",
    "elif c=='/':\n",
    "    print(a/b)\n",
    "elif c=='//':\n",
    "    print(a//b)\n",
    "elif c=='a**b':\n",
    "    print(a**b)\n",
    "else:\n",
    "    print(\"Invalid Value\")"
   ]
  },
  {
   "cell_type": "code",
   "execution_count": 8,
   "id": "162092f4",
   "metadata": {},
   "outputs": [
    {
     "name": "stdout",
     "output_type": "stream",
     "text": [
      "Enter the value: 5\n",
      "Enter the operation: +\n",
      "Enter the Value: 9\n",
      "14\n"
     ]
    }
   ],
   "source": [
    "## Calculater Project\n",
    "a=int(input(\"Enter the value: \"))\n",
    "op=str(input(\"Enter the operation: \"))\n",
    "b=int(input(\"Enter the Value: \"))\n",
    "if op=='+':\n",
    "    print(a+b)\n",
    "elif op=='-':\n",
    "    print(a-b)\n",
    "elif op=='*':\n",
    "    print(a+b)\n",
    "elif op=='/':\n",
    "    print(a/b)\n",
    "elif op=='//':\n",
    "    print(a//b)\n",
    "elif op=='**':\n",
    "    print(a**b)\n",
    "else:\n",
    "    print(\"Invalid Operation.\")"
   ]
  },
  {
   "cell_type": "code",
   "execution_count": 15,
   "id": "bbdd9bba",
   "metadata": {},
   "outputs": [
    {
     "name": "stdout",
     "output_type": "stream",
     "text": [
      "Enter the marks :5\n",
      "Fail\n"
     ]
    }
   ],
   "source": [
    "# Student Marks\n",
    "m=int(input(\"Enter the marks :\"))\n",
    "if m>90 and m<=100:\n",
    "    print(\"Grade A:\")\n",
    "elif m>70 and m<=90:\n",
    "    print(\"Grade B:\")\n",
    "elif m>50 and m<=70:\n",
    "    print(\"Grade C:\")\n",
    "elif m>30 and m<=50:\n",
    "    print(\"Grade D:\")\n",
    "else:\n",
    "    print(\"Fail\")"
   ]
  },
  {
   "cell_type": "code",
   "execution_count": 20,
   "id": "9f9b6425",
   "metadata": {},
   "outputs": [
    {
     "name": "stdout",
     "output_type": "stream",
     "text": [
      "Enter the Value :5\n",
      "Enter the value : 5\n",
      "Enter the value :5\n",
      "All are equal: \n"
     ]
    }
   ],
   "source": [
    "# Greater then three numbers\n",
    "a=int(input(\"Enter the Value :\"))\n",
    "b=int(input(\"Enter the value : \"))\n",
    "c=int(input(\"Enter the value :\"))\n",
    "if a>b and a>c:\n",
    "    print(\"A is greater then\",b,c)\n",
    "elif b>a and b>c:\n",
    "    print(\"B is greater then\",a,c)\n",
    "elif c>a and c>b:\n",
    "    print(\"C is greater then\",a,b)\n",
    "elif a==b and b==c and c==a:\n",
    "    print(\"All are equal: \")\n",
    "else:\n",
    "    print(\"Invalid\")"
   ]
  },
  {
   "cell_type": "code",
   "execution_count": 25,
   "id": "8c2b7866",
   "metadata": {},
   "outputs": [
    {
     "name": "stdout",
     "output_type": "stream",
     "text": [
      "Enter the Year :2015\n",
      "The year is not leep year\n"
     ]
    }
   ],
   "source": [
    "# Check the value is leep year or not\n",
    "a=int(input(\"Enter the Year :\"))\n",
    "if (a%400==0):\n",
    "    print(\"The year is leep year\")\n",
    "else:\n",
    "    print(\"The year is not leep year\")"
   ]
  },
  {
   "cell_type": "code",
   "execution_count": 35,
   "id": "167b3686",
   "metadata": {},
   "outputs": [
    {
     "name": "stdout",
     "output_type": "stream",
     "text": [
      "Enter Voting Age :25\n",
      "You are Eligible for voting\n"
     ]
    }
   ],
   "source": [
    "# Cheack age adult or not adult\n",
    "a=int(input(\"Enter Voting Age :\"))\n",
    "if a>=18 and a<=100:\n",
    "    print(\"You are Eligible for voting\")\n",
    "else:\n",
    "    print(\"You are not Eligible for voting\")\n",
    "    "
   ]
  },
  {
   "cell_type": "code",
   "execution_count": 42,
   "id": "b73f4447",
   "metadata": {},
   "outputs": [
    {
     "name": "stdout",
     "output_type": "stream",
     "text": [
      "Enter the day number : 5\n",
      "Thursday\n"
     ]
    }
   ],
   "source": [
    "#  Print Day Name\n",
    "day=int(input(\"Enter the day number : \"))\n",
    "if day==1:\n",
    "    print(\"Sunday\")\n",
    "elif day==2:\n",
    "    print(\"Monday\")\n",
    "elif day==3:\n",
    "    print(\"Tuesday\")\n",
    "elif day==4:\n",
    "    print(\"Wednesday\")\n",
    "elif day==5:\n",
    "    print(\"Thursday\")\n",
    "elif day==6:\n",
    "    print(\"Friday\")\n",
    "elif day==7:\n",
    "    print(\"Sunday\")\n",
    "else:\n",
    "    print(\"Invalid Day\")"
   ]
  },
  {
   "cell_type": "code",
   "execution_count": 50,
   "id": "2ae94329",
   "metadata": {},
   "outputs": [
    {
     "name": "stdout",
     "output_type": "stream",
     "text": [
      "Enter the Number of month:5\n",
      "May\n"
     ]
    }
   ],
   "source": [
    "#  Print Month Names\n",
    "month=int(input(\"Enter the Number of month:\"))\n",
    "if month==1:\n",
    "    print(\"January\")\n",
    "elif month==2:\n",
    "    print(\"Febuary\")\n",
    "elif month==3:\n",
    "    print(\"March\")\n",
    "elif month==4:\n",
    "    print(\"April\")\n",
    "elif month==5:\n",
    "    print(\"May\")\n",
    "elif month==6:\n",
    "    print(\"June\")\n",
    "elif month==7:\n",
    "    print(\"July\")\n",
    "elif month==8:\n",
    "    print(\"August\")\n",
    "elif month==9:\n",
    "    print(\"September\")\n",
    "elif month==10:\n",
    "    print(\"October\")\n",
    "elif month==11:\n",
    "    print(\"November\")\n",
    "elif month==12:\n",
    "    print(\"December\")\n",
    "else:\n",
    "    print(\"Invalid Month\")"
   ]
  },
  {
   "cell_type": "code",
   "execution_count": 64,
   "id": "2bd53096",
   "metadata": {},
   "outputs": [
    {
     "name": "stdout",
     "output_type": "stream",
     "text": [
      "Enter the Value :85\n",
      "Good\n"
     ]
    }
   ],
   "source": [
    "a=int(input(\"Enter the Value :\"))\n",
    "if a>40 and a<=55:\n",
    "    print(\"Failed\")\n",
    "elif a>=40 and a<=55:\n",
    "    print(\"Fair\")\n",
    "elif a>=55 & a<=65:\n",
    "    print(\"Good\")\n",
    "elif a>=65 & a<=100:\n",
    "    print(\"Excelent\")\n",
    "elif a>100:\n",
    "    print(\"Please enter the correct value\")"
   ]
  },
  {
   "cell_type": "code",
   "execution_count": 68,
   "id": "294b2afd",
   "metadata": {},
   "outputs": [
    {
     "name": "stdout",
     "output_type": "stream",
     "text": [
      "Enter the income :8555465\n",
      "Your own  0 in rupess\n"
     ]
    }
   ],
   "source": [
    "i=int(input(\"Enter the income :\"))\n",
    "if i<=25000:\n",
    "    tax=0\n",
    "print(\"Your own \",tax, \"in rupess\")"
   ]
  },
  {
   "cell_type": "code",
   "execution_count": 73,
   "id": "d4691e13",
   "metadata": {},
   "outputs": [
    {
     "name": "stdout",
     "output_type": "stream",
     "text": [
      "Enter the Days :255\n",
      "Total amount to pay:  1275\n"
     ]
    }
   ],
   "source": [
    "# charges calculate\n",
    "d=int(input(\"Enter the Days :\"))\n",
    "if d<=5:\n",
    "    a=d*2\n",
    "elif d>=6 and d<=10:\n",
    "    a=d*3\n",
    "elif d>11 and d<=15:\n",
    "    a=d*4\n",
    "else:\n",
    "    a=d*5\n",
    "print(\"Total amount to pay: \",a)"
   ]
  },
  {
   "cell_type": "code",
   "execution_count": 78,
   "id": "30dc8290",
   "metadata": {},
   "outputs": [
    {
     "name": "stdout",
     "output_type": "stream",
     "text": [
      "Enter the Kilomeater :90\n",
      "Amount is Journey :  900\n"
     ]
    }
   ],
   "source": [
    "# Charges\n",
    "k=int(input(\"Enter the Kilomeater :\"))\n",
    "if k<=10:\n",
    "    p=k*11\n",
    "elif k>=10 and k<=100:\n",
    "    p=k*10\n",
    "else:\n",
    "    p=k*9\n",
    "print(\"Amount is Journey : \",p)"
   ]
  },
  {
   "cell_type": "code",
   "execution_count": 15,
   "id": "eb12f428",
   "metadata": {},
   "outputs": [
    {
     "name": "stdout",
     "output_type": "stream",
     "text": [
      "Enter the marks for subject 1 :91\n",
      "Enter the marks for subject 2 :92\n",
      "Enter the marks for subject 3 :93\n",
      "92.0\n",
      "Grade: A\n"
     ]
    }
   ],
   "source": [
    "# if the average is greater then 90, \"Grade :A \" \n",
    "# if the average is in between 80 and 90, \"Grade :B\"\n",
    "# if the average is in between 70 and 80, \"Grade :C\"\n",
    "# if the average is in between 60 and 70, \"Grade :D\"\n",
    "# if the average is in between 50 and 60, \"Grade E\"\n",
    "# if the average is anyting below 50, \"Grade F\"\n",
    "\n",
    "sub1=int(input(\"Enter the marks for subject 1 :\"))\n",
    "sub2=int(input(\"Enter the marks for subject 2 :\"))\n",
    "sub3=int(input(\"Enter the marks for subject 3 :\"))\n",
    "avg=(sub1+sub2+sub3)/3\n",
    "print(avg)\n",
    "if avg>=90:\n",
    "    print(\"Grade: A\")\n",
    "elif avg>=80 and avg<=90:\n",
    "    print(\"Grade: B\")\n",
    "elif avg>=70 and avg<=80:\n",
    "    print(\"Grade: C\")\n",
    "elif avg>=60 and avg<=70:\n",
    "    print(\"Grade D\")\n",
    "elif avg>=50 and avg<=60:\n",
    "    print(\"E\")\n",
    "else:\n",
    "    print(\"F\")"
   ]
  },
  {
   "cell_type": "code",
   "execution_count": 19,
   "id": "778ed3a0",
   "metadata": {},
   "outputs": [
    {
     "name": "stdout",
     "output_type": "stream",
     "text": [
      "Enter the first Number :9\n",
      "Enter the second Number :9\n",
      "Enter the third Number :9\n",
      "A is Largest Number\n"
     ]
    }
   ],
   "source": [
    "# Largest among three numbers\n",
    "a=int(input(\"Enter the first Number :\"))\n",
    "b=int(input(\"Enter the second Number :\"))\n",
    "c=int(input(\"Enter the third Number :\"))\n",
    "if a>=b and a>=c:\n",
    "    elif a==b and b==c and c==a:\n",
    "    print(\"All are equal\")\n",
    "    print(\"A is Largest Number\")\n",
    "elif b>=a and b>=c:\n",
    "    print(\"B is Largest Number\")\n",
    "elif c>=a and c>=b:\n",
    "    print(\"C is Largest Number\")\n",
    "# else:\n",
    "#     print(\"All are equal\")"
   ]
  },
  {
   "cell_type": "code",
   "execution_count": null,
   "id": "f66f9111",
   "metadata": {},
   "outputs": [],
   "source": []
  },
  {
   "cell_type": "code",
   "execution_count": null,
   "id": "d73b6686",
   "metadata": {},
   "outputs": [],
   "source": []
  }
 ],
 "metadata": {
  "kernelspec": {
   "display_name": "Python 3 (ipykernel)",
   "language": "python",
   "name": "python3"
  },
  "language_info": {
   "codemirror_mode": {
    "name": "ipython",
    "version": 3
   },
   "file_extension": ".py",
   "mimetype": "text/x-python",
   "name": "python",
   "nbconvert_exporter": "python",
   "pygments_lexer": "ipython3",
   "version": "3.9.12"
  }
 },
 "nbformat": 4,
 "nbformat_minor": 5
}
