{
 "cells": [
  {
   "cell_type": "markdown",
   "id": "d67c2f38",
   "metadata": {},
   "source": [
    "# 1. Write a progrma to print the \"/n\""
   ]
  },
  {
   "cell_type": "code",
   "execution_count": 1,
   "id": "bdaeb473",
   "metadata": {},
   "outputs": [
    {
     "name": "stdout",
     "output_type": "stream",
     "text": [
      "This is /n\n"
     ]
    }
   ],
   "source": [
    "print(\"This is /n\")"
   ]
  },
  {
   "cell_type": "markdown",
   "id": "b65e1762",
   "metadata": {},
   "source": [
    "# 2. Write a program to print \"\\n\"."
   ]
  },
  {
   "cell_type": "code",
   "execution_count": 4,
   "id": "83e5bc6d",
   "metadata": {},
   "outputs": [
    {
     "name": "stdout",
     "output_type": "stream",
     "text": [
      "this is \\n\n"
     ]
    }
   ],
   "source": [
    "print(\"this is \\\\n\")"
   ]
  },
  {
   "cell_type": "markdown",
   "id": "7c2baf22",
   "metadata": {},
   "source": [
    "## 3. Write a Python Program which accepts the radius of a circle from the user and compute the area.\n",
    "## Formula to calulate area of square: pi*r**2"
   ]
  },
  {
   "cell_type": "code",
   "execution_count": 26,
   "id": "2f1a3e8f",
   "metadata": {},
   "outputs": [
    {
     "name": "stdout",
     "output_type": "stream",
     "text": [
      "Enter the radius : 5\n",
      "The Radius is 78.5\n"
     ]
    }
   ],
   "source": [
    "a=float(input(\"Enter the radius : \"))\n",
    "pi=3.14\n",
    "radius_of_circle= pi*a**2\n",
    "print(\"The Radius is\", radius_of_circle)"
   ]
  },
  {
   "cell_type": "markdown",
   "id": "7b863390",
   "metadata": {},
   "source": [
    "## 4. Write a Program to get the volume of a sphere with radius 6.\n",
    "### Formula to calculate volume of sphere: 4/3 pi*r**3"
   ]
  },
  {
   "cell_type": "code",
   "execution_count": 1,
   "id": "3dc91c50",
   "metadata": {},
   "outputs": [
    {
     "name": "stdout",
     "output_type": "stream",
     "text": [
      "volume of the sphere= 463433.14285756415\n"
     ]
    }
   ],
   "source": [
    "r=48  \n",
    "pi=3.14285714286  \n",
    "v=(4/3)*pi*(r**3)  \n",
    "print(\"volume of the sphere=\",v)  "
   ]
  },
  {
   "cell_type": "markdown",
   "id": "1544ef47",
   "metadata": {},
   "source": [
    "## 5. Write a Program to calculate the sum of three equal numbers, and the result is the three times of their sum"
   ]
  },
  {
   "cell_type": "code",
   "execution_count": 12,
   "id": "a3955ae5",
   "metadata": {},
   "outputs": [
    {
     "name": "stdout",
     "output_type": "stream",
     "text": [
      "Enter the First number: 5\n",
      "Enter the Second Number: 5\n",
      "Enter the Third Number: 5\n",
      "Input is:  45\n"
     ]
    }
   ],
   "source": [
    "a=int(input(\"Enter the First number: \"))\n",
    "b=int(input(\"Enter the Second Number: \"))\n",
    "c=int(input(\"Enter the Third Number: \"))\n",
    "sum=(a+b+c)*3\n",
    "print(\"Input is: \",sum)"
   ]
  },
  {
   "cell_type": "markdown",
   "id": "4b9ba148",
   "metadata": {},
   "source": [
    "## 6. Write a program that will accept the base and height of a triangle and compute the area"
   ]
  },
  {
   "cell_type": "code",
   "execution_count": 30,
   "id": "7b7ab6ea",
   "metadata": {},
   "outputs": [
    {
     "name": "stdout",
     "output_type": "stream",
     "text": [
      "Enter the Base of a Triangle: 5\n",
      "Enter the Height of a Triangle: 5\n",
      "The Area of a Triangle using 5.0 and 5.0  =  12.5\n"
     ]
    }
   ],
   "source": [
    "# Input The base and height\n",
    "b = float(input('Enter the Base of a Triangle: '))\n",
    "h = float(input('Enter the Height of a Triangle: '))\n",
    "\n",
    "# calculate the area\n",
    "a = (b*h)/2\n",
    "\n",
    "# print the triangle\n",
    "print(\"The Area of a Triangle using\", b, \"and\", h, \" = \", a)"
   ]
  },
  {
   "cell_type": "markdown",
   "id": "fe3f0b64",
   "metadata": {},
   "source": [
    "## 7. Write a progrma to solve (x+y)*(x+y)\n",
    "### Test Data: x= 4, y=3"
   ]
  },
  {
   "cell_type": "code",
   "execution_count": 10,
   "id": "05218330",
   "metadata": {},
   "outputs": [
    {
     "name": "stdout",
     "output_type": "stream",
     "text": [
      "The Output is :  49\n"
     ]
    }
   ],
   "source": [
    "x= 4\n",
    "y= 3\n",
    "\n",
    "# Calculate the equation\n",
    "r= (x+y)*(x+y)\n",
    "\n",
    "# print the equation\n",
    "print(\"The Output is : \",r)"
   ]
  },
  {
   "cell_type": "markdown",
   "id": "e53372b5",
   "metadata": {},
   "source": [
    "## 8. Write a program to compute the future value of a specified principal amount, rate of interest, and a number of years.\n",
    "### Test data: amt = 10000, int = 3.5, years = 7\n",
    "### Formula to calculate future value=  FV = P(1 + r/n)^nt."
   ]
  },
  {
   "cell_type": "code",
   "execution_count": 15,
   "id": "c1df4a9e",
   "metadata": {},
   "outputs": [
    {
     "name": "stdout",
     "output_type": "stream",
     "text": [
      "12722.792627665729\n"
     ]
    }
   ],
   "source": [
    "amt= 10000\n",
    "int=3.5 \n",
    "years= 7\n",
    "\n",
    "\n",
    "pv=amt*(1+int/100)**7\n",
    "print(pv)\n"
   ]
  },
  {
   "cell_type": "markdown",
   "id": "85c8a042",
   "metadata": {},
   "source": [
    "## 9. Write a program to convert (parse) a string to float or integer\n",
    "### test data: \"246.2458\""
   ]
  },
  {
   "cell_type": "code",
   "execution_count": 32,
   "id": "19966cd1",
   "metadata": {},
   "outputs": [
    {
     "name": "stdout",
     "output_type": "stream",
     "text": [
      "<class 'float'> 246.2458\n"
     ]
    }
   ],
   "source": [
    "n= \"246.2458\"\n",
    "s=float(n)\n",
    "print(type(s),float(s))"
   ]
  },
  {
   "cell_type": "code",
   "execution_count": 2,
   "id": "b38030da",
   "metadata": {},
   "outputs": [
    {
     "name": "stdout",
     "output_type": "stream",
     "text": [
      "246\n"
     ]
    }
   ],
   "source": [
    "# String to integer\n",
    "j=\"246.2458\"\n",
    "print(int(float(j)))"
   ]
  },
  {
   "cell_type": "markdown",
   "id": "45981848",
   "metadata": {},
   "source": [
    "## 10. Write a Program to swap two variables\n",
    "### Test Data: a=77, x= 1"
   ]
  },
  {
   "cell_type": "code",
   "execution_count": 15,
   "id": "3d6b2e37",
   "metadata": {},
   "outputs": [
    {
     "name": "stdout",
     "output_type": "stream",
     "text": [
      "Before swap a  and x (77, 1)\n",
      "After swaping a and x (1, 77)\n",
      "\n"
     ]
    }
   ],
   "source": [
    "a= 77\n",
    "x= 1\n",
    "print(\"Before swap a  and x\", (a,x))\n",
    "a,x=x,a\n",
    "print(\"After swaping a and x\",(a,x))\n",
    "print()"
   ]
  },
  {
   "cell_type": "markdown",
   "id": "cb76683f",
   "metadata": {},
   "source": [
    "## 11. Write a Program to calculate the hypotenuse of a right angled triangle.\n",
    "#### Formula: c^2=a^2+b^2"
   ]
  },
  {
   "cell_type": "code",
   "execution_count": 19,
   "id": "42fc7944",
   "metadata": {},
   "outputs": [
    {
     "name": "stdout",
     "output_type": "stream",
     "text": [
      "Input lengths of shorter triangle sides:\n",
      "a: 4\n",
      "b: 3\n",
      "The length of the hypotenuse is: 5.0\n"
     ]
    }
   ],
   "source": [
    "import math\n",
    "print(\"Input lengths of shorter triangle sides:\")\n",
    "a = float(input(\"a: \"))\n",
    "b = float(input(\"b: \"))\n",
    "c = sqrt(a**2 + b**2)\n",
    "print(\"The length of the hypotenuse is:\", c )\n"
   ]
  },
  {
   "cell_type": "markdown",
   "id": "d203e292",
   "metadata": {},
   "source": [
    "## 12. Write a program to calculate the cube of any number which was taken by input"
   ]
  },
  {
   "cell_type": "code",
   "execution_count": 13,
   "id": "93c03afc",
   "metadata": {},
   "outputs": [
    {
     "name": "stdout",
     "output_type": "stream",
     "text": [
      "Enter the Number: 5\n",
      "The Cube is :  125.0\n"
     ]
    }
   ],
   "source": [
    "a=float(input(\"Enter the Number: \"))\n",
    "c= a**3\n",
    "print(\"The Cube is : \",c)"
   ]
  },
  {
   "cell_type": "markdown",
   "id": "bff61523",
   "metadata": {},
   "source": [
    "# Write a program to caluclate the hypotenuse of a rigth angled triangle.\n"
   ]
  },
  {
   "cell_type": "code",
   "execution_count": 22,
   "id": "81b4c748",
   "metadata": {},
   "outputs": [
    {
     "name": "stdout",
     "output_type": "stream",
     "text": [
      "Enter the Value: 4\n",
      "Enter The value: 3\n",
      "Value is :  5.0\n"
     ]
    }
   ],
   "source": [
    "a=float(input(\"Enter the Value: \"))\n",
    "b=float(input(\"Enter The value: \"))\n",
    "c=((a**2)+(b**2))**0.5\n",
    "print(\"Value is : \",c)"
   ]
  },
  {
   "cell_type": "code",
   "execution_count": null,
   "id": "514feca7",
   "metadata": {},
   "outputs": [],
   "source": []
  }
 ],
 "metadata": {
  "kernelspec": {
   "display_name": "Python 3 (ipykernel)",
   "language": "python",
   "name": "python3"
  },
  "language_info": {
   "codemirror_mode": {
    "name": "ipython",
    "version": 3
   },
   "file_extension": ".py",
   "mimetype": "text/x-python",
   "name": "python",
   "nbconvert_exporter": "python",
   "pygments_lexer": "ipython3",
   "version": "3.9.12"
  }
 },
 "nbformat": 4,
 "nbformat_minor": 5
}
