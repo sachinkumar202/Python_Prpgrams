{
 "cells": [
  {
   "cell_type": "code",
   "execution_count": 4,
   "id": "3245fd69",
   "metadata": {},
   "outputs": [
    {
     "name": "stdout",
     "output_type": "stream",
     "text": [
      "Enter the number of elements in list :5\n",
      "Enter the element 1:10\n",
      "Enter the element 2:10\n",
      "Enter the element 3:10\n",
      "Enter the element 4:10\n",
      "Enter the element 5:20\n",
      "Non-duplicate items :\n",
      "[10, 20]\n"
     ]
    }
   ],
   "source": [
    "a = []\n",
    "n = int(input('Enter the number of elements in list :'))\n",
    "for i in range(0,n):\n",
    "    e = int(input('Enter the element ' + str(i+1) + ':'))\n",
    "    a.append(e)\n",
    "b = set()\n",
    "unique = []\n",
    "for i in a:\n",
    "    if i not in b:\n",
    "        unique.append(i)\n",
    "        b.add(i)\n",
    "print('Non-duplicate items :')\n",
    "print(unique)"
   ]
  },
  {
   "cell_type": "code",
   "execution_count": null,
   "id": "6de0a8e4",
   "metadata": {},
   "outputs": [],
   "source": []
  }
 ],
 "metadata": {
  "kernelspec": {
   "display_name": "Python 3 (ipykernel)",
   "language": "python",
   "name": "python3"
  },
  "language_info": {
   "codemirror_mode": {
    "name": "ipython",
    "version": 3
   },
   "file_extension": ".py",
   "mimetype": "text/x-python",
   "name": "python",
   "nbconvert_exporter": "python",
   "pygments_lexer": "ipython3",
   "version": "3.9.12"
  }
 },
 "nbformat": 4,
 "nbformat_minor": 5
}
